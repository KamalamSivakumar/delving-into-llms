{
 "cells": [
  {
   "cell_type": "code",
   "execution_count": 25,
   "id": "27633b3f-2c73-45ba-a95e-f26cfbb85704",
   "metadata": {},
   "outputs": [],
   "source": [
    "import nltk\n",
    "from nltk.corpus import movie_reviews\n",
    "import warnings\n",
    "warnings.filterwarnings('ignore')"
   ]
  },
  {
   "cell_type": "code",
   "execution_count": 2,
   "id": "c5bd8817-be9c-4ee5-abec-d8ebac5edf4f",
   "metadata": {},
   "outputs": [],
   "source": [
    "import pandas as pd\n",
    "from nltk.sentiment.vader import SentimentIntensityAnalyzer\n",
    "from nltk.corpus import stopwords\n",
    "from nltk.tokenize import word_tokenize\n",
    "from nltk.stem import WordNetLemmatizer\n",
    "import re"
   ]
  },
  {
   "cell_type": "code",
   "execution_count": 3,
   "id": "1d4081a0-6da7-4aac-816c-a43314c2c05b",
   "metadata": {},
   "outputs": [
    {
     "data": {
      "text/plain": [
       "['plot', ':', 'two', 'teen', 'couples', 'go', 'to', ...]"
      ]
     },
     "execution_count": 3,
     "metadata": {},
     "output_type": "execute_result"
    }
   ],
   "source": [
    "movie_reviews.words()"
   ]
  },
  {
   "cell_type": "code",
   "execution_count": 4,
   "id": "ba275699-3fb9-4f58-8343-21eca47c897d",
   "metadata": {},
   "outputs": [
    {
     "data": {
      "text/html": [
       "<div>\n",
       "<style scoped>\n",
       "    .dataframe tbody tr th:only-of-type {\n",
       "        vertical-align: middle;\n",
       "    }\n",
       "\n",
       "    .dataframe tbody tr th {\n",
       "        vertical-align: top;\n",
       "    }\n",
       "\n",
       "    .dataframe thead th {\n",
       "        text-align: right;\n",
       "    }\n",
       "</style>\n",
       "<table border=\"1\" class=\"dataframe\">\n",
       "  <thead>\n",
       "    <tr style=\"text-align: right;\">\n",
       "      <th></th>\n",
       "      <th>filename</th>\n",
       "      <th>tag</th>\n",
       "      <th>text</th>\n",
       "    </tr>\n",
       "  </thead>\n",
       "  <tbody>\n",
       "    <tr>\n",
       "      <th>0</th>\n",
       "      <td>cv000_29416.txt</td>\n",
       "      <td>neg</td>\n",
       "      <td>plot : two teen couples go to a church party ,...</td>\n",
       "    </tr>\n",
       "    <tr>\n",
       "      <th>1</th>\n",
       "      <td>cv001_19502.txt</td>\n",
       "      <td>neg</td>\n",
       "      <td>the happy bastard's quick movie review \\ndamn ...</td>\n",
       "    </tr>\n",
       "    <tr>\n",
       "      <th>2</th>\n",
       "      <td>cv002_17424.txt</td>\n",
       "      <td>neg</td>\n",
       "      <td>it is movies like these that make a jaded movi...</td>\n",
       "    </tr>\n",
       "    <tr>\n",
       "      <th>3</th>\n",
       "      <td>cv003_12683.txt</td>\n",
       "      <td>neg</td>\n",
       "      <td>\" quest for camelot \" is warner bros . ' firs...</td>\n",
       "    </tr>\n",
       "    <tr>\n",
       "      <th>4</th>\n",
       "      <td>cv004_12641.txt</td>\n",
       "      <td>neg</td>\n",
       "      <td>synopsis : a mentally unstable man undergoing ...</td>\n",
       "    </tr>\n",
       "  </tbody>\n",
       "</table>\n",
       "</div>"
      ],
      "text/plain": [
       "          filename  tag                                               text\n",
       "0  cv000_29416.txt  neg  plot : two teen couples go to a church party ,...\n",
       "1  cv001_19502.txt  neg  the happy bastard's quick movie review \\ndamn ...\n",
       "2  cv002_17424.txt  neg  it is movies like these that make a jaded movi...\n",
       "3  cv003_12683.txt  neg   \" quest for camelot \" is warner bros . ' firs...\n",
       "4  cv004_12641.txt  neg  synopsis : a mentally unstable man undergoing ..."
      ]
     },
     "execution_count": 4,
     "metadata": {},
     "output_type": "execute_result"
    }
   ],
   "source": [
    "reviews = []\n",
    "for fileid in movie_reviews.fileids():\n",
    "    tag, filename = fileid.split('/')\n",
    "    reviews.append((filename, tag, movie_reviews.raw(fileid)))\n",
    "df = pd.DataFrame(reviews, columns=['filename', 'tag', 'text'])\n",
    "df.head()"
   ]
  },
  {
   "cell_type": "code",
   "execution_count": 5,
   "id": "8e81b364-291f-4777-830f-a6f6bd453b96",
   "metadata": {},
   "outputs": [],
   "source": [
    "unwanted = nltk.corpus.stopwords.words(\"english\")\n",
    "unwanted.extend([w.lower() for w in nltk.corpus.names.words()]) #removing actors names from the data\n",
    "#can also be customised to remove most frequent words used in positive and egative reviews, for a cleaner distribution of words\n",
    "\n",
    "def preprocess_text(text):\n",
    "    text = text.lower()\n",
    "    text = re.sub(r'[^a-zA-Z\\s]', '', text)\n",
    "    text = re.sub(r'@\\w+', '', text)\n",
    "    text = re.sub(r'#\\w+', '', text)\n",
    "    text = re.sub(r'\\n', '', text)\n",
    "    text = re.sub(r'\\t', '', text)\n",
    "    \n",
    "    tokens = word_tokenize(text)\n",
    "    filtered_tokens = [token for token in tokens if token not in unwanted]\n",
    "    lemmatizer = WordNetLemmatizer()\n",
    "    lem_tokens = [lemmatizer.lemmatize(token) for token in filtered_tokens]\n",
    "    processed_text = ' '.join(lem_tokens)\n",
    "    \n",
    "    return processed_text"
   ]
  },
  {
   "cell_type": "code",
   "execution_count": 6,
   "id": "5426a73e-f8f0-4ebd-884f-e335f92e04e0",
   "metadata": {},
   "outputs": [
    {
     "data": {
      "text/plain": [
       "'plot : two teen couples go to a church party , drink and then drive . \\nthey get into an accident . \\none of the guys dies , but his girlfriend continues to see him in her life , and has nightmares . \\nwhat\\'s the deal ? \\nwatch the movie and \" sorta \" find out . . . \\ncritique : a mind-fuck movie for the teen generation that touches on a very cool idea , but presents it in a very bad package . \\nwhich is what makes this review an even harder one to write , since i generally applaud films which attempt to break the mold , mess with your head and such ( lost highway & memento ) , but there are good and bad ways of making all types of films , and these folks just didn\\'t snag this one correctly . \\nthey seem to have taken this pretty neat concept , but executed it terribly . \\nso what are the problems with the movie ? \\nwell , its main problem is that it\\'s simply too jumbled . \\nit starts off \" normal \" but then downshifts into this \" fantasy \" world in which you , as an audience member , have no idea what\\'s going on . \\nthere are dreams , there are characters coming back from the dead , there are others who look like the dead , there are strange apparitions , there are disappearances , there are a looooot of chase scenes , there are tons of weird things that happen , and most of it is simply not explained . \\nnow i personally don\\'t mind trying to unravel a film every now and then , but when all it does is give me the same clue over and over again , i get kind of fed up after a while , which is this film\\'s biggest problem . \\nit\\'s obviously got this big secret to hide , but it seems to want to hide it completely until its final five minutes . \\nand do they make things entertaining , thrilling or even engaging , in the meantime ? \\nnot really . \\nthe sad part is that the arrow and i both dig on flicks like this , so we actually figured most of it out by the half-way point , so all of the strangeness after that did start to make a little bit of sense , but it still didn\\'t the make the film all that more entertaining . \\ni guess the bottom line with movies like this is that you should always make sure that the audience is \" into it \" even before they are given the secret password to enter your world of understanding . \\ni mean , showing melissa sagemiller running away from visions for about 20 minutes throughout the movie is just plain lazy ! ! \\nokay , we get it . . . there \\nare people chasing her and we don\\'t know who they are . \\ndo we really need to see it over and over again ? \\nhow about giving us different scenes offering further insight into all of the strangeness going down in the movie ? \\napparently , the studio took this film away from its director and chopped it up themselves , and it shows . \\nthere might\\'ve been a pretty decent teen mind-fuck movie in here somewhere , but i guess \" the suits \" decided that turning it into a music video with little edge , would make more sense . \\nthe actors are pretty good for the most part , although wes bentley just seemed to be playing the exact same character that he did in american beauty , only in a new neighborhood . \\nbut my biggest kudos go out to sagemiller , who holds her own throughout the entire film , and actually has you feeling her character\\'s unraveling . \\noverall , the film doesn\\'t stick because it doesn\\'t entertain , it\\'s confusing , it rarely excites and it feels pretty redundant for most of its runtime , despite a pretty cool ending and explanation to all of the craziness that came before it . \\noh , and by the way , this is not a horror or teen slasher flick . . . it\\'s \\njust packaged to look that way because someone is apparently assuming that the genre is still hot with the kids . \\nit also wrapped production two years ago and has been sitting on the shelves ever since . \\nwhatever . . . skip \\nit ! \\nwhere\\'s joblo coming from ? \\na nightmare of elm street 3 ( 7/10 ) - blair witch 2 ( 7/10 ) - the crow ( 9/10 ) - the crow : salvation ( 4/10 ) - lost highway ( 10/10 ) - memento ( 10/10 ) - the others ( 9/10 ) - stir of echoes ( 8/10 ) \\n'"
      ]
     },
     "execution_count": 6,
     "metadata": {},
     "output_type": "execute_result"
    }
   ],
   "source": [
    "df.text[0]"
   ]
  },
  {
   "cell_type": "code",
   "execution_count": 7,
   "id": "2835c472-2981-4848-9890-dd0790a8447e",
   "metadata": {},
   "outputs": [
    {
     "data": {
      "text/plain": [
       "'plot two teen couple go church party drink drive get accident one guy dy girlfriend continues life nightmare whats deal watch movie sorta find critique mindfuck movie teen generation touch cool idea present bad package make review even harder one write since generally applaud film attempt break mold mess head lost highway memento good bad way making type film folk didnt snag one correctly seem taken pretty neat concept executed terribly problem movie well main problem simply jumbled start normal downshift fantasy world audience member idea whats going dream character coming back dead others look like dead strange apparition disappearance looooot scene ton weird thing happen simply explained personally dont mind trying unravel film every give clue get kind fed film biggest problem obviously got big secret hide seems want hide completely final five minute make thing entertaining thrilling even engaging meantime really sad part arrow dig flick like actually figured halfway point strangeness start make little bit sense still didnt make film entertaining guess bottom line movie like always make sure audience even given secret password enter world understanding mean showing sagemiller running away vision minute throughout movie plain lazy okay get people chasing dont know really need giving u different scene offering insight strangeness going movie apparently studio took film away director chopped show mightve pretty decent teen mindfuck movie somewhere guess suit decided turning music video little edge would make sense actor pretty good part although seemed playing exact character american beauty new neighborhood biggest kudos go sagemiller hold throughout entire film actually feeling character unraveling overall film doesnt stick doesnt entertain confusing rarely excites feel pretty redundant runtime despite pretty cool ending explanation craziness came oh horror teen slasher flick packaged look someone apparently assuming genre still hot kid also wrapped production two year ago sitting shelf ever since whatever wheres joblo coming nightmare elm street witch crow crow salvation lost highway memento others stir echo'"
      ]
     },
     "execution_count": 7,
     "metadata": {},
     "output_type": "execute_result"
    }
   ],
   "source": [
    "preprocess_text(df.text[0])"
   ]
  },
  {
   "cell_type": "code",
   "execution_count": 8,
   "id": "725d1efa-c94c-444f-868e-38b7a841c900",
   "metadata": {},
   "outputs": [
    {
     "data": {
      "text/html": [
       "<div>\n",
       "<style scoped>\n",
       "    .dataframe tbody tr th:only-of-type {\n",
       "        vertical-align: middle;\n",
       "    }\n",
       "\n",
       "    .dataframe tbody tr th {\n",
       "        vertical-align: top;\n",
       "    }\n",
       "\n",
       "    .dataframe thead th {\n",
       "        text-align: right;\n",
       "    }\n",
       "</style>\n",
       "<table border=\"1\" class=\"dataframe\">\n",
       "  <thead>\n",
       "    <tr style=\"text-align: right;\">\n",
       "      <th></th>\n",
       "      <th>filename</th>\n",
       "      <th>tag</th>\n",
       "      <th>text</th>\n",
       "    </tr>\n",
       "  </thead>\n",
       "  <tbody>\n",
       "    <tr>\n",
       "      <th>0</th>\n",
       "      <td>cv000_29416.txt</td>\n",
       "      <td>neg</td>\n",
       "      <td>plot two teen couple go church party drink dri...</td>\n",
       "    </tr>\n",
       "    <tr>\n",
       "      <th>1</th>\n",
       "      <td>cv001_19502.txt</td>\n",
       "      <td>neg</td>\n",
       "      <td>bastard quick movie review damn yk bug got hea...</td>\n",
       "    </tr>\n",
       "    <tr>\n",
       "      <th>2</th>\n",
       "      <td>cv002_17424.txt</td>\n",
       "      <td>neg</td>\n",
       "      <td>movie like make jaded movie viewer thankful in...</td>\n",
       "    </tr>\n",
       "    <tr>\n",
       "      <th>3</th>\n",
       "      <td>cv003_12683.txt</td>\n",
       "      <td>neg</td>\n",
       "      <td>quest camelot bros first featurelength fullyan...</td>\n",
       "    </tr>\n",
       "    <tr>\n",
       "      <th>4</th>\n",
       "      <td>cv004_12641.txt</td>\n",
       "      <td>neg</td>\n",
       "      <td>synopsis mentally unstable man undergoing psyc...</td>\n",
       "    </tr>\n",
       "  </tbody>\n",
       "</table>\n",
       "</div>"
      ],
      "text/plain": [
       "          filename  tag                                               text\n",
       "0  cv000_29416.txt  neg  plot two teen couple go church party drink dri...\n",
       "1  cv001_19502.txt  neg  bastard quick movie review damn yk bug got hea...\n",
       "2  cv002_17424.txt  neg  movie like make jaded movie viewer thankful in...\n",
       "3  cv003_12683.txt  neg  quest camelot bros first featurelength fullyan...\n",
       "4  cv004_12641.txt  neg  synopsis mentally unstable man undergoing psyc..."
      ]
     },
     "execution_count": 8,
     "metadata": {},
     "output_type": "execute_result"
    }
   ],
   "source": [
    "df['text'] = df['text'].apply(preprocess_text)\n",
    "df.head()"
   ]
  },
  {
   "cell_type": "code",
   "execution_count": 9,
   "id": "c0236136-82f5-4967-adfc-21ba862bd57c",
   "metadata": {},
   "outputs": [
    {
     "data": {
      "text/plain": [
       "array(['neg', 'pos'], dtype=object)"
      ]
     },
     "execution_count": 9,
     "metadata": {},
     "output_type": "execute_result"
    }
   ],
   "source": [
    "df.tag.unique()"
   ]
  },
  {
   "cell_type": "code",
   "execution_count": 10,
   "id": "97813169-e9b9-4686-b381-07af15507918",
   "metadata": {},
   "outputs": [
    {
     "data": {
      "text/html": [
       "<div>\n",
       "<style scoped>\n",
       "    .dataframe tbody tr th:only-of-type {\n",
       "        vertical-align: middle;\n",
       "    }\n",
       "\n",
       "    .dataframe tbody tr th {\n",
       "        vertical-align: top;\n",
       "    }\n",
       "\n",
       "    .dataframe thead th {\n",
       "        text-align: right;\n",
       "    }\n",
       "</style>\n",
       "<table border=\"1\" class=\"dataframe\">\n",
       "  <thead>\n",
       "    <tr style=\"text-align: right;\">\n",
       "      <th></th>\n",
       "      <th>filename</th>\n",
       "      <th>tag</th>\n",
       "      <th>text</th>\n",
       "    </tr>\n",
       "  </thead>\n",
       "  <tbody>\n",
       "    <tr>\n",
       "      <th>0</th>\n",
       "      <td>cv000_29416.txt</td>\n",
       "      <td>1</td>\n",
       "      <td>plot two teen couple go church party drink dri...</td>\n",
       "    </tr>\n",
       "    <tr>\n",
       "      <th>1</th>\n",
       "      <td>cv001_19502.txt</td>\n",
       "      <td>1</td>\n",
       "      <td>bastard quick movie review damn yk bug got hea...</td>\n",
       "    </tr>\n",
       "    <tr>\n",
       "      <th>2</th>\n",
       "      <td>cv002_17424.txt</td>\n",
       "      <td>1</td>\n",
       "      <td>movie like make jaded movie viewer thankful in...</td>\n",
       "    </tr>\n",
       "    <tr>\n",
       "      <th>3</th>\n",
       "      <td>cv003_12683.txt</td>\n",
       "      <td>1</td>\n",
       "      <td>quest camelot bros first featurelength fullyan...</td>\n",
       "    </tr>\n",
       "    <tr>\n",
       "      <th>4</th>\n",
       "      <td>cv004_12641.txt</td>\n",
       "      <td>1</td>\n",
       "      <td>synopsis mentally unstable man undergoing psyc...</td>\n",
       "    </tr>\n",
       "  </tbody>\n",
       "</table>\n",
       "</div>"
      ],
      "text/plain": [
       "          filename  tag                                               text\n",
       "0  cv000_29416.txt    1  plot two teen couple go church party drink dri...\n",
       "1  cv001_19502.txt    1  bastard quick movie review damn yk bug got hea...\n",
       "2  cv002_17424.txt    1  movie like make jaded movie viewer thankful in...\n",
       "3  cv003_12683.txt    1  quest camelot bros first featurelength fullyan...\n",
       "4  cv004_12641.txt    1  synopsis mentally unstable man undergoing psyc..."
      ]
     },
     "execution_count": 10,
     "metadata": {},
     "output_type": "execute_result"
    }
   ],
   "source": [
    "def label_encoding(a):\n",
    "    if a == 'pos':\n",
    "        return 0\n",
    "    if a == 'neg':\n",
    "        return 1\n",
    "\n",
    "df.tag = df.tag.apply(label_encoding)\n",
    "df.head()"
   ]
  },
  {
   "cell_type": "code",
   "execution_count": 11,
   "id": "fc011e0d-a2d6-49b2-8e91-5f0f946052c0",
   "metadata": {},
   "outputs": [],
   "source": [
    "analyzer = SentimentIntensityAnalyzer()\n",
    "def get_sentiment(text):\n",
    "    scores = analyzer.polarity_scores(text)\n",
    "    sentiment = 0 if scores['pos'] >= 0 else 1\n",
    "    return sentiment\n",
    "df['predicted_sentiment'] = df.text.apply(get_sentiment)\n",
    "def get_score(text):\n",
    "    scores = analyzer.polarity_scores(text)\n",
    "    score = scores['pos'] if scores['pos'] >= 0 else scores['neg']\n",
    "    return score\n",
    "df['sentiment_score'] = df.text.apply(get_score)"
   ]
  },
  {
   "cell_type": "code",
   "execution_count": 12,
   "id": "a21c65f9-eaf2-46ba-b76f-e414fdc1d93a",
   "metadata": {},
   "outputs": [
    {
     "data": {
      "text/html": [
       "<div>\n",
       "<style scoped>\n",
       "    .dataframe tbody tr th:only-of-type {\n",
       "        vertical-align: middle;\n",
       "    }\n",
       "\n",
       "    .dataframe tbody tr th {\n",
       "        vertical-align: top;\n",
       "    }\n",
       "\n",
       "    .dataframe thead th {\n",
       "        text-align: right;\n",
       "    }\n",
       "</style>\n",
       "<table border=\"1\" class=\"dataframe\">\n",
       "  <thead>\n",
       "    <tr style=\"text-align: right;\">\n",
       "      <th></th>\n",
       "      <th>filename</th>\n",
       "      <th>tag</th>\n",
       "      <th>text</th>\n",
       "      <th>predicted_sentiment</th>\n",
       "      <th>sentiment_score</th>\n",
       "    </tr>\n",
       "  </thead>\n",
       "  <tbody>\n",
       "    <tr>\n",
       "      <th>0</th>\n",
       "      <td>cv000_29416.txt</td>\n",
       "      <td>1</td>\n",
       "      <td>plot two teen couple go church party drink dri...</td>\n",
       "      <td>0</td>\n",
       "      <td>0.208</td>\n",
       "    </tr>\n",
       "    <tr>\n",
       "      <th>1</th>\n",
       "      <td>cv001_19502.txt</td>\n",
       "      <td>1</td>\n",
       "      <td>bastard quick movie review damn yk bug got hea...</td>\n",
       "      <td>0</td>\n",
       "      <td>0.132</td>\n",
       "    </tr>\n",
       "    <tr>\n",
       "      <th>2</th>\n",
       "      <td>cv002_17424.txt</td>\n",
       "      <td>1</td>\n",
       "      <td>movie like make jaded movie viewer thankful in...</td>\n",
       "      <td>0</td>\n",
       "      <td>0.180</td>\n",
       "    </tr>\n",
       "    <tr>\n",
       "      <th>3</th>\n",
       "      <td>cv003_12683.txt</td>\n",
       "      <td>1</td>\n",
       "      <td>quest camelot bros first featurelength fullyan...</td>\n",
       "      <td>0</td>\n",
       "      <td>0.154</td>\n",
       "    </tr>\n",
       "    <tr>\n",
       "      <th>4</th>\n",
       "      <td>cv004_12641.txt</td>\n",
       "      <td>1</td>\n",
       "      <td>synopsis mentally unstable man undergoing psyc...</td>\n",
       "      <td>0</td>\n",
       "      <td>0.123</td>\n",
       "    </tr>\n",
       "    <tr>\n",
       "      <th>...</th>\n",
       "      <td>...</td>\n",
       "      <td>...</td>\n",
       "      <td>...</td>\n",
       "      <td>...</td>\n",
       "      <td>...</td>\n",
       "    </tr>\n",
       "    <tr>\n",
       "      <th>1995</th>\n",
       "      <td>cv995_21821.txt</td>\n",
       "      <td>0</td>\n",
       "      <td>wow movie everything movie funny dramatic inte...</td>\n",
       "      <td>0</td>\n",
       "      <td>0.411</td>\n",
       "    </tr>\n",
       "    <tr>\n",
       "      <th>1996</th>\n",
       "      <td>cv996_11592.txt</td>\n",
       "      <td>0</td>\n",
       "      <td>commanding actor he always great film everythi...</td>\n",
       "      <td>0</td>\n",
       "      <td>0.203</td>\n",
       "    </tr>\n",
       "    <tr>\n",
       "      <th>1997</th>\n",
       "      <td>cv997_5046.txt</td>\n",
       "      <td>0</td>\n",
       "      <td>glorystarring denzel freemanis true story th r...</td>\n",
       "      <td>0</td>\n",
       "      <td>0.177</td>\n",
       "    </tr>\n",
       "    <tr>\n",
       "      <th>1998</th>\n",
       "      <td>cv998_14111.txt</td>\n",
       "      <td>0</td>\n",
       "      <td>spielberg second epic film world war ii unques...</td>\n",
       "      <td>0</td>\n",
       "      <td>0.185</td>\n",
       "    </tr>\n",
       "    <tr>\n",
       "      <th>1999</th>\n",
       "      <td>cv999_13106.txt</td>\n",
       "      <td>0</td>\n",
       "      <td>trueman burbank perfect name carreys character...</td>\n",
       "      <td>0</td>\n",
       "      <td>0.181</td>\n",
       "    </tr>\n",
       "  </tbody>\n",
       "</table>\n",
       "<p>2000 rows × 5 columns</p>\n",
       "</div>"
      ],
      "text/plain": [
       "             filename  tag                                               text  \\\n",
       "0     cv000_29416.txt    1  plot two teen couple go church party drink dri...   \n",
       "1     cv001_19502.txt    1  bastard quick movie review damn yk bug got hea...   \n",
       "2     cv002_17424.txt    1  movie like make jaded movie viewer thankful in...   \n",
       "3     cv003_12683.txt    1  quest camelot bros first featurelength fullyan...   \n",
       "4     cv004_12641.txt    1  synopsis mentally unstable man undergoing psyc...   \n",
       "...               ...  ...                                                ...   \n",
       "1995  cv995_21821.txt    0  wow movie everything movie funny dramatic inte...   \n",
       "1996  cv996_11592.txt    0  commanding actor he always great film everythi...   \n",
       "1997   cv997_5046.txt    0  glorystarring denzel freemanis true story th r...   \n",
       "1998  cv998_14111.txt    0  spielberg second epic film world war ii unques...   \n",
       "1999  cv999_13106.txt    0  trueman burbank perfect name carreys character...   \n",
       "\n",
       "      predicted_sentiment  sentiment_score  \n",
       "0                       0            0.208  \n",
       "1                       0            0.132  \n",
       "2                       0            0.180  \n",
       "3                       0            0.154  \n",
       "4                       0            0.123  \n",
       "...                   ...              ...  \n",
       "1995                    0            0.411  \n",
       "1996                    0            0.203  \n",
       "1997                    0            0.177  \n",
       "1998                    0            0.185  \n",
       "1999                    0            0.181  \n",
       "\n",
       "[2000 rows x 5 columns]"
      ]
     },
     "execution_count": 12,
     "metadata": {},
     "output_type": "execute_result"
    }
   ],
   "source": [
    "df"
   ]
  },
  {
   "cell_type": "code",
   "execution_count": 56,
   "id": "bcdb7da1-7f95-421e-9bd4-03543b352b59",
   "metadata": {},
   "outputs": [
    {
     "data": {
      "text/plain": [
       "array([[1000,    0],\n",
       "       [1000,    0]], dtype=int64)"
      ]
     },
     "execution_count": 56,
     "metadata": {},
     "output_type": "execute_result"
    }
   ],
   "source": [
    "from sklearn.metrics import confusion_matrix\n",
    "confusion_matrix(df['tag'], df['predicted_sentiment'])\n",
    "#This is fair, as VADER rates better on tweets, as it's trained based on tweets"
   ]
  },
  {
   "cell_type": "code",
   "execution_count": 14,
   "id": "7303041d-6de4-43aa-9cc8-0e2e9574ae74",
   "metadata": {},
   "outputs": [],
   "source": [
    "positive_ids = nltk.corpus.movie_reviews.fileids(categories=[\"pos\"])\n",
    "negative_ids = nltk.corpus.movie_reviews.fileids(categories=[\"neg\"])\n",
    "all_review_ids = positive_ids + negative_ids"
   ]
  },
  {
   "cell_type": "code",
   "execution_count": 27,
   "id": "e714586b-ba1e-49d7-abb9-5d57ff32d54f",
   "metadata": {},
   "outputs": [],
   "source": [
    "#Redefining the functions to work on an entire movie review\n",
    "from statistics import mean\n",
    "def is_positive(review_id: str) -> bool:\n",
    "    #True if the average of all sentence compound scores is positive\n",
    "    text = nltk.corpus.movie_reviews.raw(review_id)\n",
    "    scores = [analyzer.polarity_scores(sentence)[\"compound\"] for sentence in nltk.sent_tokenize(text)]\n",
    "    return mean(scores) > 0"
   ]
  },
  {
   "cell_type": "code",
   "execution_count": 28,
   "id": "d6524508-b5a1-41b5-9b1b-34fdb642be9a",
   "metadata": {},
   "outputs": [
    {
     "name": "stdout",
     "output_type": "stream",
     "text": [
      "0.64\n"
     ]
    }
   ],
   "source": [
    "from random import shuffle\n",
    "\n",
    "shuffle(all_review_ids)\n",
    "correct = 0\n",
    "\n",
    "for review_id in all_review_ids:\n",
    "    if is_positive(review_id):\n",
    "        if review_id in positive_ids: \n",
    "            correct += 1\n",
    "    else:\n",
    "        if review_id in negative_ids:\n",
    "            correct += 1\n",
    "print(correct/len(all_review_ids))\n",
    "#64% is predicted correctly. "
   ]
  },
  {
   "cell_type": "code",
   "execution_count": 17,
   "id": "38825411-7e00-4f43-90b7-02d4f9f6247b",
   "metadata": {},
   "outputs": [],
   "source": [
    "#Using Machine Learning Methods"
   ]
  },
  {
   "cell_type": "code",
   "execution_count": 36,
   "id": "80f6a5b4-d78d-4559-bd3a-164508f55253",
   "metadata": {},
   "outputs": [],
   "source": [
    "#Extracting features that can be used to train the ML models, positive scores and compound scores, can also be extended to most frequent words used in a pos/neg review.\n",
    "def extract_features(text):\n",
    "    features = dict()\n",
    "    compound_scores = list()\n",
    "    positive_scores = list()\n",
    "\n",
    "    for sentence in nltk.sent_tokenize(text):\n",
    "        compound_scores.append(analyzer.polarity_scores(sentence)[\"compound\"])\n",
    "        positive_scores.append(analyzer.polarity_scores(sentence)[\"pos\"])\n",
    "        \n",
    "    features[\"mean_compound\"] = mean(compound_scores) + 1\n",
    "    features[\"mean_positive\"] = mean(positive_scores)\n",
    "\n",
    "    return features"
   ]
  },
  {
   "cell_type": "code",
   "execution_count": 40,
   "id": "e03626c3-52c7-4047-b823-a8ee3234b77d",
   "metadata": {},
   "outputs": [],
   "source": [
    "features = [(extract_features(t), \"pos\") for t in df['text'][df['tag']==0].tolist()]\n",
    "features.extend([(extract_features(t), \"neg\") for t in df['text'][df['tag']==1].tolist()])"
   ]
  },
  {
   "cell_type": "code",
   "execution_count": 50,
   "id": "4e239ecd-a193-4813-bcb5-d5d7f85744d5",
   "metadata": {},
   "outputs": [],
   "source": [
    "classifier = nltk.NaiveBayesClassifier.train(features)"
   ]
  },
  {
   "cell_type": "code",
   "execution_count": 52,
   "id": "d1490b0c-c05b-4aca-b810-00b87aabf9ef",
   "metadata": {},
   "outputs": [
    {
     "name": "stdout",
     "output_type": "stream",
     "text": [
      "pos\n"
     ]
    }
   ],
   "source": [
    "print(classifier.classify(extract_features(\"I love the plot!\")))"
   ]
  },
  {
   "cell_type": "code",
   "execution_count": 43,
   "id": "42affa69-9eae-4458-a19c-9dadad7f55e4",
   "metadata": {},
   "outputs": [
    {
     "data": {
      "text/plain": [
       "0.8785"
      ]
     },
     "execution_count": 43,
     "metadata": {},
     "output_type": "execute_result"
    }
   ],
   "source": [
    "nltk.classify.accuracy(classifier, features)"
   ]
  },
  {
   "cell_type": "code",
   "execution_count": 46,
   "id": "28e9aad2-3599-400f-b8b1-99c75eab7f34",
   "metadata": {},
   "outputs": [
    {
     "data": {
      "text/plain": [
       "0.762"
      ]
     },
     "execution_count": 46,
     "metadata": {},
     "output_type": "execute_result"
    }
   ],
   "source": [
    "#KNNClassifier\n",
    "from sklearn.neighbors import KNeighborsClassifier\n",
    "cls = nltk.classify.SklearnClassifier(KNeighborsClassifier())\n",
    "cls.train(features)\n",
    "nltk.classify.accuracy(cls, features)"
   ]
  },
  {
   "cell_type": "code",
   "execution_count": 47,
   "id": "454e2c45-4ad7-44fc-9af1-defc0063f844",
   "metadata": {},
   "outputs": [
    {
     "data": {
      "text/plain": [
       "0.6435"
      ]
     },
     "execution_count": 47,
     "metadata": {},
     "output_type": "execute_result"
    }
   ],
   "source": [
    "#LogisticRegression Classifier\n",
    "from sklearn.linear_model import LogisticRegression\n",
    "cls = nltk.classify.SklearnClassifier(LogisticRegression())\n",
    "cls.train(features)\n",
    "nltk.classify.accuracy(cls, features)"
   ]
  },
  {
   "cell_type": "code",
   "execution_count": null,
   "id": "601c2313-a024-438f-910e-300e47c8dc31",
   "metadata": {},
   "outputs": [],
   "source": []
  }
 ],
 "metadata": {
  "kernelspec": {
   "display_name": "Python 3 (ipykernel)",
   "language": "python",
   "name": "python3"
  },
  "language_info": {
   "codemirror_mode": {
    "name": "ipython",
    "version": 3
   },
   "file_extension": ".py",
   "mimetype": "text/x-python",
   "name": "python",
   "nbconvert_exporter": "python",
   "pygments_lexer": "ipython3",
   "version": "3.12.3"
  }
 },
 "nbformat": 4,
 "nbformat_minor": 5
}
