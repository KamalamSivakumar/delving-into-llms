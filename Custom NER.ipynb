{
 "cells": [
  {
   "cell_type": "code",
   "execution_count": 50,
   "id": "b6998268-9d3f-46d0-9b9f-46d0a8084c98",
   "metadata": {},
   "outputs": [],
   "source": [
    "import spacy"
   ]
  },
  {
   "cell_type": "code",
   "execution_count": 51,
   "id": "af4e57fa-9c4b-4a74-9ce2-4610a0da2fe1",
   "metadata": {},
   "outputs": [],
   "source": [
    "nlp = spacy.load(\"en_core_web_sm\") "
   ]
  },
  {
   "cell_type": "code",
   "execution_count": 52,
   "id": "70d4e8d0-6231-4e44-8fe3-4dc29883d115",
   "metadata": {},
   "outputs": [
    {
     "data": {
      "text/plain": [
       "'In the week before the departure to Sacramento, when all the final scurrying about had reached a nearly unbearable frenzy, an old crone came to visit the mother of the boy, Paul.'"
      ]
     },
     "execution_count": 52,
     "metadata": {},
     "output_type": "execute_result"
    }
   ],
   "source": [
    "sentence = \"In the week before the departure to Sacramento, when all the final scurrying about had reached a nearly unbearable frenzy, an old crone came to visit the mother of the boy, Paul.\"\n",
    "sentence #Sacramento since Arrakis (Fictional Place) was not captured as place"
   ]
  },
  {
   "cell_type": "code",
   "execution_count": 53,
   "id": "2f3791ca-c6ac-4a76-86b8-ea46bac4077f",
   "metadata": {},
   "outputs": [
    {
     "data": {
      "text/plain": [
       "(the week, Sacramento, Paul)"
      ]
     },
     "execution_count": 53,
     "metadata": {},
     "output_type": "execute_result"
    }
   ],
   "source": [
    "doc = nlp(sentence)\n",
    "doc.ents"
   ]
  },
  {
   "cell_type": "code",
   "execution_count": 54,
   "id": "73cd87b6-4eff-4751-9bbe-5e736733e368",
   "metadata": {},
   "outputs": [
    {
     "name": "stdout",
     "output_type": "stream",
     "text": [
      "the week DATE\n",
      "Sacramento GPE\n",
      "Paul PERSON\n"
     ]
    }
   ],
   "source": [
    "for entity in doc.ents:\n",
    "    print(entity.text, entity.label_)"
   ]
  },
  {
   "cell_type": "code",
   "execution_count": 55,
   "id": "f2c2b406-396b-4e14-9f04-4ba2a78d6096",
   "metadata": {},
   "outputs": [
    {
     "data": {
      "text/html": [
       "<span class=\"tex2jax_ignore\"><div class=\"entities\" style=\"line-height: 2.5; direction: ltr\">In \n",
       "<mark class=\"entity\" style=\"background: #bfe1d9; padding: 0.45em 0.6em; margin: 0 0.25em; line-height: 1; border-radius: 0.35em;\">\n",
       "    the week\n",
       "    <span style=\"font-size: 0.8em; font-weight: bold; line-height: 1; border-radius: 0.35em; vertical-align: middle; margin-left: 0.5rem\">DATE</span>\n",
       "</mark>\n",
       " before the departure to \n",
       "<mark class=\"entity\" style=\"background: #feca74; padding: 0.45em 0.6em; margin: 0 0.25em; line-height: 1; border-radius: 0.35em;\">\n",
       "    Sacramento\n",
       "    <span style=\"font-size: 0.8em; font-weight: bold; line-height: 1; border-radius: 0.35em; vertical-align: middle; margin-left: 0.5rem\">GPE</span>\n",
       "</mark>\n",
       ", when all the final scurrying about had reached a nearly unbearable frenzy, an old crone came to visit the mother of the boy, \n",
       "<mark class=\"entity\" style=\"background: #aa9cfc; padding: 0.45em 0.6em; margin: 0 0.25em; line-height: 1; border-radius: 0.35em;\">\n",
       "    Paul\n",
       "    <span style=\"font-size: 0.8em; font-weight: bold; line-height: 1; border-radius: 0.35em; vertical-align: middle; margin-left: 0.5rem\">PERSON</span>\n",
       "</mark>\n",
       ".</div></span>"
      ],
      "text/plain": [
       "<IPython.core.display.HTML object>"
      ]
     },
     "metadata": {},
     "output_type": "display_data"
    }
   ],
   "source": [
    "from spacy import displacy\n",
    "displacy.render(doc, style=\"ent\", jupyter=True)"
   ]
  },
  {
   "cell_type": "code",
   "execution_count": 56,
   "id": "d520b177-7384-4086-a754-7c442775dd84",
   "metadata": {},
   "outputs": [],
   "source": [
    "#Using NER annotation tool, prepared the same sentence, but with \"Arrakis\" instead of Sacramento"
   ]
  },
  {
   "cell_type": "code",
   "execution_count": 57,
   "id": "4d798fec-4b87-4106-b37f-2123054a29ff",
   "metadata": {},
   "outputs": [
    {
     "data": {
      "text/plain": [
       "['In the week before the departure to Arrakis, when all the final scurrying about had reached a nearly unbearable frenzy, an old crone came to visit the mother of the boy, Paul.\\r',\n",
       " {'entities': [[0, 11, 'DATE']]}]"
      ]
     },
     "execution_count": 57,
     "metadata": {},
     "output_type": "execute_result"
    }
   ],
   "source": [
    "from spacy.tokens import DocBin\n",
    "from tqdm import tqdm\n",
    "import json\n",
    "\n",
    "fict_data = json.load(open(\"C:/Users/kamalam.s/Desktop/kamalam's/nlp dev/data/ner/annotations.json\",'r'))\n",
    "len(fict_data)\n",
    "fict_data[0]"
   ]
  },
  {
   "cell_type": "code",
   "execution_count": 58,
   "id": "ff43ff74-999a-49a8-94e6-421b4475574e",
   "metadata": {},
   "outputs": [],
   "source": [
    "#Base config file can be downloaded from the documentation: https://spacy.io/usage/training\n",
    "#Either auto-fill can be done on the same or can be filled manually. "
   ]
  },
  {
   "cell_type": "code",
   "execution_count": 74,
   "id": "afab7b97-dd6c-4745-8669-a913048f8dfe",
   "metadata": {},
   "outputs": [],
   "source": [
    "#Command to autofill."
   ]
  },
  {
   "cell_type": "code",
   "execution_count": 108,
   "id": "f92f447f-5ec7-4ac3-85bf-5b45ce23748f",
   "metadata": {},
   "outputs": [
    {
     "name": "stdout",
     "output_type": "stream",
     "text": [
      "[+] Auto-filled config with all values\n",
      "[+] Saved config\n",
      "config.cfg\n",
      "You can now add your data and train your pipeline:\n",
      "python -m spacy train config.cfg --paths.train ./train.spacy --paths.dev ./dev.spacy\n"
     ]
    }
   ],
   "source": [
    "!python -m spacy init fill-config ner_config.cfg config.cfg "
   ]
  },
  {
   "cell_type": "code",
   "execution_count": 60,
   "id": "fbce9773-2b48-49f6-ad1c-7bca66f14561",
   "metadata": {},
   "outputs": [],
   "source": [
    "#Using DocBin object from spacy to load our newly annotated data\n",
    "#tqdm aids in creating a progress bar to loops/iterables."
   ]
  },
  {
   "cell_type": "code",
   "execution_count": 61,
   "id": "2040e9c4-61fc-4531-ae69-625e5e4c6c68",
   "metadata": {},
   "outputs": [
    {
     "name": "stderr",
     "output_type": "stream",
     "text": [
      "100%|████████████████████████████████████████████████████████████████████████████████████████████| 1/1 [00:00<?, ?it/s]"
     ]
    },
    {
     "name": "stdout",
     "output_type": "stream",
     "text": [
      "[[0, 12, 'PLACE'], [61, 70, 'PLACE'], [94, 102, 'PLACE']]\n"
     ]
    },
    {
     "name": "stderr",
     "output_type": "stream",
     "text": [
      "\n"
     ]
    }
   ],
   "source": [
    "from tqdm import tqdm\n",
    "for text, ents in tqdm([['Diagon Alley has a variety of things to choose and buy from, Hogsmeade is very cosy. Overall, Hogwarts must be one cheery of an experience.\\r',\n",
    "  {'entities': [[0, 12, 'PLACE'], [61, 70, 'PLACE'], [94, 102, 'PLACE']]}]]):\n",
    "    n = ents['entities']\n",
    "    print(n)"
   ]
  },
  {
   "cell_type": "code",
   "execution_count": 62,
   "id": "510f295b-acab-4799-a51e-6d48e65f73c5",
   "metadata": {},
   "outputs": [],
   "source": [
    "# Define a function to create spaCy DocBin objects from the annotated data\n",
    "def get_spacy_doc(file, data):\n",
    "  # Create a blank spaCy pipeline\n",
    "  nlp = spacy.blank('en')\n",
    "  db = DocBin()\n",
    "  # Iterate through the data\n",
    "  for text, annot in tqdm(data):\n",
    "    doc = nlp.make_doc(text)\n",
    "    annot = annot['entities']\n",
    "    ents = []\n",
    "    entity_indices = []\n",
    "    # Extract entities from the annotations\n",
    "    for start, end, label in annot:\n",
    "      skip_entity = False\n",
    "      for idx in range(start, end):\n",
    "        if idx in entity_indices:\n",
    "          skip_entity = True\n",
    "          break\n",
    "      if skip_entity:\n",
    "        continue\n",
    "      entity_indices = entity_indices + list(range(start, end))\n",
    "      try:\n",
    "        span = doc.char_span(start, end, label=label, alignment_mode='strict')\n",
    "      except:\n",
    "        continue\n",
    "      if span is None:\n",
    "        # Log errors for annotations that couldn't be processed\n",
    "        err_data = str([start, end]) + \"    \" + str(text) + \"\\n\"\n",
    "        file.write(err_data)\n",
    "      else:\n",
    "        ents.append(span)\n",
    "    try:\n",
    "      doc.ents = ents\n",
    "      db.add(doc)\n",
    "    except:\n",
    "      pass\n",
    "  return db"
   ]
  },
  {
   "cell_type": "code",
   "execution_count": 63,
   "id": "64d480bf-ff03-453d-8466-b2377a2a5c86",
   "metadata": {},
   "outputs": [
    {
     "data": {
      "text/plain": [
       "[['Diagon Alley has a variety of things to choose and buy from, Hogsmeade is very cosy. Overall, Hogwarts must be one cheery of an experience.\\r',\n",
       "  {'entities': [[0, 12, 'PLACE'], [61, 70, 'PLACE'], [94, 102, 'PLACE']]}],\n",
       " [\"Scythia had become a labyrinth of snow and ice. I'd been monitoring the parameters of the thicket for an hour, and my vantage point in the crook of a tree branch had turned useless.\\r\",\n",
       "  {'entities': [[0, 7, 'PLACE']]}]]"
      ]
     },
     "execution_count": 63,
     "metadata": {},
     "output_type": "execute_result"
    }
   ],
   "source": [
    "train"
   ]
  },
  {
   "cell_type": "code",
   "execution_count": 66,
   "id": "5efbe2a7-3785-45bc-99bd-23600460cbf3",
   "metadata": {},
   "outputs": [
    {
     "name": "stdout",
     "output_type": "stream",
     "text": [
      "2 1\n"
     ]
    },
    {
     "name": "stderr",
     "output_type": "stream",
     "text": [
      "100%|███████████████████████████████████████████████████████████████████████████████████| 2/2 [00:00<00:00, 196.99it/s]\n",
      "100%|███████████████████████████████████████████████████████████████████████████████████| 1/1 [00:00<00:00, 175.91it/s]\n"
     ]
    }
   ],
   "source": [
    "from sklearn.model_selection import train_test_split\n",
    "train, test = train_test_split(fict_data, test_size=0.2)\n",
    "print(len(train), len(test))\n",
    "file = open(\"C:/Users/kamalam.s/Desktop/kamalam's/nlp dev/trained_models/train_file.txt\",'w')\n",
    "db = get_spacy_doc(file, train)\n",
    "db.to_disk(\"C:/Users/kamalam.s/Desktop/kamalam's/nlp dev/trained_models/train_data.spacy\")\n",
    "db = get_spacy_doc(file, test)\n",
    "db.to_disk(\"C:/Users/kamalam.s/Desktop/kamalam's/nlp dev/trained_models/test_data.spacy\")\n",
    "file.close()"
   ]
  },
  {
   "cell_type": "code",
   "execution_count": 73,
   "id": "765e824f-f10b-4833-87f4-e3eab9e7af56",
   "metadata": {},
   "outputs": [
    {
     "name": "stdout",
     "output_type": "stream",
     "text": [
      "[i] Saving to output directory: C:\\Users\\kamalam.s\\Desktop\\kamalam's\\nlp\n",
      "dev\\trained_models\\output\n",
      "[i] Using CPU\n",
      "\u001b[1m\n",
      "=========================== Initializing pipeline ===========================\u001b[0m\n",
      "[+] Initialized pipeline\n",
      "\u001b[1m\n",
      "============================= Training pipeline =============================\u001b[0m\n",
      "[i] Pipeline: ['tok2vec', 'ner']\n",
      "[i] Initial learn rate: 0.001\n",
      "E    #       LOSS TOK2VEC  LOSS NER  ENTS_F  ENTS_P  ENTS_R  SCORE \n",
      "---  ------  ------------  --------  ------  ------  ------  ------\n",
      "  0       0          0.00     33.40    0.00    0.00    0.00    0.00\n",
      "200     200          0.48    417.62    0.00    0.00    0.00    0.00\n",
      "400     400          0.00      0.00    0.00    0.00    0.00    0.00\n",
      "600     600          0.00      0.00    0.00    0.00    0.00    0.00\n",
      "800     800          0.00      0.00    0.00    0.00    0.00    0.00\n",
      "1000    1000          0.00      0.00    0.00    0.00    0.00    0.00\n",
      "1200    1200          0.00      0.00    0.00    0.00    0.00    0.00\n",
      "1400    1400          0.00      0.00    0.00    0.00    0.00    0.00\n",
      "1600    1600          0.00      0.00    0.00    0.00    0.00    0.00\n",
      "[+] Saved pipeline to output directory\n",
      "C:\\Users\\kamalam.s\\Desktop\\kamalam's\\nlp dev\\trained_models\\output\\model-last\n"
     ]
    }
   ],
   "source": [
    "!python -m spacy train \"C:/Users/kamalam.s/Desktop/kamalam's/nlp dev/config.cfg\"  --output \"C:/Users/kamalam.s/Desktop/kamalam's/nlp dev/trained_models/output\"  --paths.train \"C:/Users/kamalam.s/Desktop/kamalam's/nlp dev/trained_models/train_data.spacy\"  --paths.dev \"C:/Users/kamalam.s/Desktop/kamalam's/nlp dev/trained_models/test_data.spacy\""
   ]
  },
  {
   "cell_type": "code",
   "execution_count": 91,
   "id": "fa5f8103-8f27-431a-b8d0-291e04f60106",
   "metadata": {},
   "outputs": [],
   "source": [
    "nlpt = spacy.load(\"C:/Users/kamalam.s/Desktop/kamalam's/nlp dev/trained_models/output/model-best\")\n",
    "sample = \"Freya is from Azkaban.\"\n",
    "\n",
    "doct = nlpt(sample)"
   ]
  },
  {
   "cell_type": "code",
   "execution_count": 92,
   "id": "11389585-9044-4e8c-99e0-34b59dccf916",
   "metadata": {},
   "outputs": [
    {
     "name": "stdout",
     "output_type": "stream",
     "text": [
      "Freya PLACE\n"
     ]
    }
   ],
   "source": [
    "for ent in doct.ents:\n",
    "  print(ent.text, ent.label_)"
   ]
  },
  {
   "cell_type": "code",
   "execution_count": 97,
   "id": "6d215768-d2df-4963-b27b-5c4c9038c9a1",
   "metadata": {},
   "outputs": [],
   "source": [
    "#Trying to perform a better custom ner"
   ]
  },
  {
   "cell_type": "code",
   "execution_count": 96,
   "id": "77e1460e-8cf9-468e-ab4f-cd6f5f86bc13",
   "metadata": {},
   "outputs": [
    {
     "data": {
      "text/plain": [
       "['2021-07-08 13:45:57 INFO WMQJCAResourceAdapter: 0] =>>>GenericMessageDrivenBean - start() <Envelope><Header><CommonInfo><Source>OTP</Source><Service>SMSSrv</Service></CommonInfo>\\r\\n</Header><Body><SMSSrv><Mobile><CountryCode>61</CountryCode><Num>0420742903</Num>\\r\\n</Mobile><Source>IBNK</Source><RefNum>6266342</RefNum><RefNum2>1</RefNum2>\\r\\n<Bank>STG</Bank><GCISCustNum>11181855</GCISCustNum><SMSMsg>Your Secure Code is 494244 to add\\r\\nPayee with BB:062-013 Account:424242454. Never share this code.</SMSMsg></SMSSrv></Body></Envelope>\\r\\n(au.com.stgeorge.sms.integration.impl.listener.GenericMessageDrivenBean)\\r\\n',\n",
       " {'entities': [[418, 424, 'SOURCECODE']]}]"
      ]
     },
     "execution_count": 96,
     "metadata": {},
     "output_type": "execute_result"
    }
   ],
   "source": [
    "data = json.load(open(\"C:/Users/kamalam.s/Desktop/kamalam's/nlp dev/custom_trial/custom_trial.json\",'r'))\n",
    "len(data)\n",
    "data[0]"
   ]
  },
  {
   "cell_type": "code",
   "execution_count": 98,
   "id": "3658bb02-26b0-4752-aa99-29f7192fffeb",
   "metadata": {},
   "outputs": [
    {
     "name": "stdout",
     "output_type": "stream",
     "text": [
      "[+] Auto-filled config with all values\n",
      "[+] Saved config\n",
      "C:\\Users\\kamalam.s\\Desktop\\kamalam's\\nlp dev\\custom_trial\\config.cfg\n",
      "You can now add your data and train your pipeline:\n",
      "python -m spacy train config.cfg --paths.train ./train.spacy --paths.dev ./dev.spacy\n"
     ]
    }
   ],
   "source": [
    "!python -m spacy init fill-config ner_config.cfg \"C:/Users/kamalam.s/Desktop/kamalam's/nlp dev/custom_trial/config.cfg\""
   ]
  },
  {
   "cell_type": "code",
   "execution_count": 99,
   "id": "5cc544d8-adfa-463d-a31a-57d3bd13e6d1",
   "metadata": {},
   "outputs": [
    {
     "name": "stdout",
     "output_type": "stream",
     "text": [
      "2 1\n"
     ]
    },
    {
     "name": "stderr",
     "output_type": "stream",
     "text": [
      "100%|████████████████████████████████████████████████████████████████████████████████████| 2/2 [00:00<00:00, 82.89it/s]\n",
      "100%|███████████████████████████████████████████████████████████████████████████████████| 1/1 [00:00<00:00, 302.38it/s]\n"
     ]
    }
   ],
   "source": [
    "train, test = train_test_split(fict_data, test_size=0.2)\n",
    "print(len(train), len(test))\n",
    "file = open(\"C:/Users/kamalam.s/Desktop/kamalam's/nlp dev/custom_trial/train_file.txt\",'w')\n",
    "db = get_spacy_doc(file, train)\n",
    "db.to_disk(\"C:/Users/kamalam.s/Desktop/kamalam's/nlp dev/custom_trial/train_data.spacy\")\n",
    "db = get_spacy_doc(file, test)\n",
    "db.to_disk(\"C:/Users/kamalam.s/Desktop/kamalam's/nlp dev/custom_trial/test_data.spacy\")\n",
    "file.close()"
   ]
  },
  {
   "cell_type": "code",
   "execution_count": 102,
   "id": "bc892d49-20bd-4dc5-9278-c2c98264b2b1",
   "metadata": {},
   "outputs": [
    {
     "name": "stdout",
     "output_type": "stream",
     "text": [
      "[+] Created output directory: C:\\Users\\kamalam.s\\Desktop\\kamalam's\\nlp\n",
      "dev\\custom_trial\\output\n",
      "[i] Saving to output directory: C:\\Users\\kamalam.s\\Desktop\\kamalam's\\nlp\n",
      "dev\\custom_trial\\output\n",
      "[i] Using CPU\n",
      "\u001b[1m\n",
      "=========================== Initializing pipeline ===========================\u001b[0m\n",
      "[+] Initialized pipeline\n",
      "\u001b[1m\n",
      "============================= Training pipeline =============================\u001b[0m\n",
      "[i] Pipeline: ['tok2vec', 'ner']\n",
      "[i] Initial learn rate: 0.001\n",
      "E    #       LOSS TOK2VEC  LOSS NER  ENTS_F  ENTS_P  ENTS_R  SCORE \n",
      "---  ------  ------------  --------  ------  ------  ------  ------\n",
      "  0       0          0.00     30.30    0.00    0.00    0.00    0.00\n",
      "200     200          2.00    432.13    0.00    0.00    0.00    0.00\n",
      "400     400          0.00      0.00    0.00    0.00    0.00    0.00\n",
      "600     600          0.00      0.00    0.00    0.00    0.00    0.00\n",
      "800     800          0.00      0.00    0.00    0.00    0.00    0.00\n",
      "1000    1000          0.00      0.00    0.00    0.00    0.00    0.00\n",
      "1200    1200          0.00      0.00    0.00    0.00    0.00    0.00\n",
      "1400    1400          0.00      0.00    0.00    0.00    0.00    0.00\n",
      "1600    1600          0.00      0.00    0.00    0.00    0.00    0.00\n",
      "[+] Saved pipeline to output directory\n",
      "C:\\Users\\kamalam.s\\Desktop\\kamalam's\\nlp dev\\custom_trial\\output\\model-last\n"
     ]
    }
   ],
   "source": [
    "!python -m spacy train \"C:/Users/kamalam.s/Desktop/kamalam's/nlp dev/custom_trial/config.cfg\"  --output \"C:/Users/kamalam.s/Desktop/kamalam's/nlp dev/custom_trial/output\"  --paths.train \"C:/Users/kamalam.s/Desktop/kamalam's/nlp dev/custom_trial/train_data.spacy\"  --paths.dev \"C:/Users/kamalam.s/Desktop/kamalam's/nlp dev/custom_trial/test_data.spacy\""
   ]
  },
  {
   "cell_type": "code",
   "execution_count": 103,
   "id": "d5a557e6-db30-429f-a8df-a66339544c53",
   "metadata": {},
   "outputs": [],
   "source": [
    "nlpt = spacy.load(\"C:/Users/kamalam.s/Desktop/kamalam's/nlp dev/custom_trial/output/model-best\")\n",
    "sample = \"\\r\\n2021-07-02 14:57:54:456 INFO [WMQJCAResourceAdapter: 4] =>srvName :AlertTriggerSrv request :<Envelope>\\r\\n<Header><Commoninfo><Source>ODS</Source><SourceBranch><Num>0</Num></SourceBranch>\\r\\n<Service>AlertTriggerSrv</Service></CommonInfo></Header><Body><AlertTriggerSr>\\r\\n<Applid>CRA</Applid><AcctNum><AcctKey>4601841000280711</AcctKey></AcctNum>\\r\\n<AvailBal>5599.20</AvailBal><CurrBal>9348.30</CurrBal><ODLim>0.00</ODLim>\\r\\n<FloatAmt>0.00</FloatAmt><ShortName>Priyesh Dave</ShortName><TransType>AU</TransType><TranEffDate>\\r\\n<Day>02</Day><Month>07</Month><Year>2021</Year></TranEffDate><TranEffTime><Hour>14</Hour>\\r\\n<Min>57</Min><Sec>54</Sec></TranEffTime><TranAmt>52.50</TranAmt><TranDesc1>TRML= W1364081\\r\\n20210702</TranDesc1><TranDesc2>WOOLWORTHS/BEECROFTRDBEECROFTAU</TranDesc2>\\r\\n<SchedulePymtind>N</SchedulePymtInd><Brand></Brand></AlertTriggerSrv></Body></Envelope>response:<Envelope><Body><AlertTriggerSrvResp><Code><Code>000</Code><Desc>The request was\\r\\nsuccessfully performed</Desc></Code></AlertTriggerSrvResp></Body></Envelope>\\r\\n(au.com.stgeorge.sms.integration.IntegrationManager)\\r\\n\"\n",
    "\n",
    "doct = nlpt(sample)"
   ]
  },
  {
   "cell_type": "code",
   "execution_count": 104,
   "id": "9b0373a9-5c25-4cde-8143-29b99e0e68b6",
   "metadata": {},
   "outputs": [
    {
     "name": "stdout",
     "output_type": "stream",
     "text": [
      "2021- PLACE\n",
      "07- PLACE\n",
      "02 14:57:54:456 PLACE\n",
      "INFO [ PLACE\n",
      "WMQJCAResourceAdapter: PLACE\n",
      "4] PLACE\n",
      "=> PLACE\n",
      "srvName : PLACE\n",
      "AlertTriggerSrv request PLACE\n",
      ": PLACE\n",
      "Header><Commoninfo><Source> PLACE\n",
      "ODS</Source><SourceBranch><Num>0</Num></SourceBranch> PLACE\n",
      ">AlertTriggerSrv</Service></CommonInfo></Header><Body><AlertTriggerSr PLACE\n",
      ">\n",
      "< DATE\n",
      "Applid> PLACE\n",
      "CRA</Applid><AcctNum><AcctKey>4601841000280711</AcctKey></AcctNum> PLACE\n",
      "AvailBal>5599.20</AvailBal><CurrBal>9348.30</CurrBal><ODLim>0.00</ODLim PLACE\n",
      ">Priyesh PLACE\n",
      "Dave</ShortName><TransType> PLACE\n",
      "AU</TransType><TranEffDate> PLACE\n",
      "Day>02</Day><Month>07</Month><Year>2021</Year></TranEffDate><TranEffTime><Hour>14</Hour> PLACE\n",
      "Min>57</Min><Sec>54</Sec></TranEffTime><TranAmt>52.50</TranAmt><TranDesc1> PLACE\n",
      "TRML= W1364081\n",
      " DATE\n",
      ">WOOLWORTHS PLACE\n",
      "/BEECROFTRDBEECROFTAU</TranDesc2 PLACE\n",
      ">\n",
      " PLACE\n",
      "SchedulePymtind> PLACE\n",
      "N</SchedulePymtInd><Brand></Brand></AlertTriggerSrv></Body></Envelope> PLACE\n",
      "response:<Envelope><Body><AlertTriggerSrvResp><Code><Code>000</Code><Desc> PLACE\n",
      "> PLACE\n",
      "(au.com.stgeorge.sms.integration. DATE\n",
      ") PLACE\n"
     ]
    }
   ],
   "source": [
    "for ent in doct.ents:\n",
    "  print(ent.text, ent.label_)"
   ]
  },
  {
   "cell_type": "code",
   "execution_count": 105,
   "id": "ea05cc17-b491-4282-9530-0c86c0371f70",
   "metadata": {},
   "outputs": [
    {
     "data": {
      "text/html": [
       "<span class=\"tex2jax_ignore\"><div class=\"entities\" style=\"line-height: 2.5; direction: ltr\">\r",
       "<br>\n",
       "<mark class=\"entity\" style=\"background: #ddd; padding: 0.45em 0.6em; margin: 0 0.25em; line-height: 1; border-radius: 0.35em;\">\n",
       "    2021-\n",
       "    <span style=\"font-size: 0.8em; font-weight: bold; line-height: 1; border-radius: 0.35em; vertical-align: middle; margin-left: 0.5rem\">PLACE</span>\n",
       "</mark>\n",
       "\n",
       "<mark class=\"entity\" style=\"background: #ddd; padding: 0.45em 0.6em; margin: 0 0.25em; line-height: 1; border-radius: 0.35em;\">\n",
       "    07-\n",
       "    <span style=\"font-size: 0.8em; font-weight: bold; line-height: 1; border-radius: 0.35em; vertical-align: middle; margin-left: 0.5rem\">PLACE</span>\n",
       "</mark>\n",
       "\n",
       "<mark class=\"entity\" style=\"background: #ddd; padding: 0.45em 0.6em; margin: 0 0.25em; line-height: 1; border-radius: 0.35em;\">\n",
       "    02 14:57:54:456\n",
       "    <span style=\"font-size: 0.8em; font-weight: bold; line-height: 1; border-radius: 0.35em; vertical-align: middle; margin-left: 0.5rem\">PLACE</span>\n",
       "</mark>\n",
       " \n",
       "<mark class=\"entity\" style=\"background: #ddd; padding: 0.45em 0.6em; margin: 0 0.25em; line-height: 1; border-radius: 0.35em;\">\n",
       "    INFO [\n",
       "    <span style=\"font-size: 0.8em; font-weight: bold; line-height: 1; border-radius: 0.35em; vertical-align: middle; margin-left: 0.5rem\">PLACE</span>\n",
       "</mark>\n",
       "\n",
       "<mark class=\"entity\" style=\"background: #ddd; padding: 0.45em 0.6em; margin: 0 0.25em; line-height: 1; border-radius: 0.35em;\">\n",
       "    WMQJCAResourceAdapter:\n",
       "    <span style=\"font-size: 0.8em; font-weight: bold; line-height: 1; border-radius: 0.35em; vertical-align: middle; margin-left: 0.5rem\">PLACE</span>\n",
       "</mark>\n",
       " \n",
       "<mark class=\"entity\" style=\"background: #ddd; padding: 0.45em 0.6em; margin: 0 0.25em; line-height: 1; border-radius: 0.35em;\">\n",
       "    4]\n",
       "    <span style=\"font-size: 0.8em; font-weight: bold; line-height: 1; border-radius: 0.35em; vertical-align: middle; margin-left: 0.5rem\">PLACE</span>\n",
       "</mark>\n",
       " \n",
       "<mark class=\"entity\" style=\"background: #ddd; padding: 0.45em 0.6em; margin: 0 0.25em; line-height: 1; border-radius: 0.35em;\">\n",
       "    =&gt;\n",
       "    <span style=\"font-size: 0.8em; font-weight: bold; line-height: 1; border-radius: 0.35em; vertical-align: middle; margin-left: 0.5rem\">PLACE</span>\n",
       "</mark>\n",
       "\n",
       "<mark class=\"entity\" style=\"background: #ddd; padding: 0.45em 0.6em; margin: 0 0.25em; line-height: 1; border-radius: 0.35em;\">\n",
       "    srvName :\n",
       "    <span style=\"font-size: 0.8em; font-weight: bold; line-height: 1; border-radius: 0.35em; vertical-align: middle; margin-left: 0.5rem\">PLACE</span>\n",
       "</mark>\n",
       "\n",
       "<mark class=\"entity\" style=\"background: #ddd; padding: 0.45em 0.6em; margin: 0 0.25em; line-height: 1; border-radius: 0.35em;\">\n",
       "    AlertTriggerSrv request\n",
       "    <span style=\"font-size: 0.8em; font-weight: bold; line-height: 1; border-radius: 0.35em; vertical-align: middle; margin-left: 0.5rem\">PLACE</span>\n",
       "</mark>\n",
       " \n",
       "<mark class=\"entity\" style=\"background: #ddd; padding: 0.45em 0.6em; margin: 0 0.25em; line-height: 1; border-radius: 0.35em;\">\n",
       "    :\n",
       "    <span style=\"font-size: 0.8em; font-weight: bold; line-height: 1; border-radius: 0.35em; vertical-align: middle; margin-left: 0.5rem\">PLACE</span>\n",
       "</mark>\n",
       "&lt;Envelope&gt;\r",
       "<br>&lt;\n",
       "<mark class=\"entity\" style=\"background: #ddd; padding: 0.45em 0.6em; margin: 0 0.25em; line-height: 1; border-radius: 0.35em;\">\n",
       "    Header&gt;&lt;Commoninfo&gt;&lt;Source&gt;\n",
       "    <span style=\"font-size: 0.8em; font-weight: bold; line-height: 1; border-radius: 0.35em; vertical-align: middle; margin-left: 0.5rem\">PLACE</span>\n",
       "</mark>\n",
       "\n",
       "<mark class=\"entity\" style=\"background: #ddd; padding: 0.45em 0.6em; margin: 0 0.25em; line-height: 1; border-radius: 0.35em;\">\n",
       "    ODS&lt;/Source&gt;&lt;SourceBranch&gt;&lt;Num&gt;0&lt;/Num&gt;&lt;/SourceBranch&gt;\n",
       "    <span style=\"font-size: 0.8em; font-weight: bold; line-height: 1; border-radius: 0.35em; vertical-align: middle; margin-left: 0.5rem\">PLACE</span>\n",
       "</mark>\n",
       "\r",
       "<br>&lt;Service\n",
       "<mark class=\"entity\" style=\"background: #ddd; padding: 0.45em 0.6em; margin: 0 0.25em; line-height: 1; border-radius: 0.35em;\">\n",
       "    &gt;AlertTriggerSrv&lt;/Service&gt;&lt;/CommonInfo&gt;&lt;/Header&gt;&lt;Body&gt;&lt;AlertTriggerSr\n",
       "    <span style=\"font-size: 0.8em; font-weight: bold; line-height: 1; border-radius: 0.35em; vertical-align: middle; margin-left: 0.5rem\">PLACE</span>\n",
       "</mark>\n",
       "\n",
       "<mark class=\"entity\" style=\"background: #bfe1d9; padding: 0.45em 0.6em; margin: 0 0.25em; line-height: 1; border-radius: 0.35em;\">\n",
       "    &gt;\r\n",
       "&lt;\n",
       "    <span style=\"font-size: 0.8em; font-weight: bold; line-height: 1; border-radius: 0.35em; vertical-align: middle; margin-left: 0.5rem\">DATE</span>\n",
       "</mark>\n",
       "\n",
       "<mark class=\"entity\" style=\"background: #ddd; padding: 0.45em 0.6em; margin: 0 0.25em; line-height: 1; border-radius: 0.35em;\">\n",
       "    Applid&gt;\n",
       "    <span style=\"font-size: 0.8em; font-weight: bold; line-height: 1; border-radius: 0.35em; vertical-align: middle; margin-left: 0.5rem\">PLACE</span>\n",
       "</mark>\n",
       "\n",
       "<mark class=\"entity\" style=\"background: #ddd; padding: 0.45em 0.6em; margin: 0 0.25em; line-height: 1; border-radius: 0.35em;\">\n",
       "    CRA&lt;/Applid&gt;&lt;AcctNum&gt;&lt;AcctKey&gt;4601841000280711&lt;/AcctKey&gt;&lt;/AcctNum&gt;\n",
       "    <span style=\"font-size: 0.8em; font-weight: bold; line-height: 1; border-radius: 0.35em; vertical-align: middle; margin-left: 0.5rem\">PLACE</span>\n",
       "</mark>\n",
       "\r",
       "<br>&lt;\n",
       "<mark class=\"entity\" style=\"background: #ddd; padding: 0.45em 0.6em; margin: 0 0.25em; line-height: 1; border-radius: 0.35em;\">\n",
       "    AvailBal&gt;5599.20&lt;/AvailBal&gt;&lt;CurrBal&gt;9348.30&lt;/CurrBal&gt;&lt;ODLim&gt;0.00&lt;/ODLim\n",
       "    <span style=\"font-size: 0.8em; font-weight: bold; line-height: 1; border-radius: 0.35em; vertical-align: middle; margin-left: 0.5rem\">PLACE</span>\n",
       "</mark>\n",
       "&gt;\r",
       "<br>&lt;FloatAmt&gt;0.00&lt;/FloatAmt&gt;&lt;ShortName\n",
       "<mark class=\"entity\" style=\"background: #ddd; padding: 0.45em 0.6em; margin: 0 0.25em; line-height: 1; border-radius: 0.35em;\">\n",
       "    &gt;Priyesh\n",
       "    <span style=\"font-size: 0.8em; font-weight: bold; line-height: 1; border-radius: 0.35em; vertical-align: middle; margin-left: 0.5rem\">PLACE</span>\n",
       "</mark>\n",
       " \n",
       "<mark class=\"entity\" style=\"background: #ddd; padding: 0.45em 0.6em; margin: 0 0.25em; line-height: 1; border-radius: 0.35em;\">\n",
       "    Dave&lt;/ShortName&gt;&lt;TransType&gt;\n",
       "    <span style=\"font-size: 0.8em; font-weight: bold; line-height: 1; border-radius: 0.35em; vertical-align: middle; margin-left: 0.5rem\">PLACE</span>\n",
       "</mark>\n",
       "\n",
       "<mark class=\"entity\" style=\"background: #ddd; padding: 0.45em 0.6em; margin: 0 0.25em; line-height: 1; border-radius: 0.35em;\">\n",
       "    AU&lt;/TransType&gt;&lt;TranEffDate&gt;\n",
       "    <span style=\"font-size: 0.8em; font-weight: bold; line-height: 1; border-radius: 0.35em; vertical-align: middle; margin-left: 0.5rem\">PLACE</span>\n",
       "</mark>\n",
       "\r",
       "<br>&lt;\n",
       "<mark class=\"entity\" style=\"background: #ddd; padding: 0.45em 0.6em; margin: 0 0.25em; line-height: 1; border-radius: 0.35em;\">\n",
       "    Day&gt;02&lt;/Day&gt;&lt;Month&gt;07&lt;/Month&gt;&lt;Year&gt;2021&lt;/Year&gt;&lt;/TranEffDate&gt;&lt;TranEffTime&gt;&lt;Hour&gt;14&lt;/Hour&gt;\n",
       "    <span style=\"font-size: 0.8em; font-weight: bold; line-height: 1; border-radius: 0.35em; vertical-align: middle; margin-left: 0.5rem\">PLACE</span>\n",
       "</mark>\n",
       "\r",
       "<br>&lt;\n",
       "<mark class=\"entity\" style=\"background: #ddd; padding: 0.45em 0.6em; margin: 0 0.25em; line-height: 1; border-radius: 0.35em;\">\n",
       "    Min&gt;57&lt;/Min&gt;&lt;Sec&gt;54&lt;/Sec&gt;&lt;/TranEffTime&gt;&lt;TranAmt&gt;52.50&lt;/TranAmt&gt;&lt;TranDesc1&gt;\n",
       "    <span style=\"font-size: 0.8em; font-weight: bold; line-height: 1; border-radius: 0.35em; vertical-align: middle; margin-left: 0.5rem\">PLACE</span>\n",
       "</mark>\n",
       "\n",
       "<mark class=\"entity\" style=\"background: #bfe1d9; padding: 0.45em 0.6em; margin: 0 0.25em; line-height: 1; border-radius: 0.35em;\">\n",
       "    TRML= W1364081\r\n",
       "\n",
       "    <span style=\"font-size: 0.8em; font-weight: bold; line-height: 1; border-radius: 0.35em; vertical-align: middle; margin-left: 0.5rem\">DATE</span>\n",
       "</mark>\n",
       "20210702&lt;/TranDesc1&gt;&lt;TranDesc2\n",
       "<mark class=\"entity\" style=\"background: #ddd; padding: 0.45em 0.6em; margin: 0 0.25em; line-height: 1; border-radius: 0.35em;\">\n",
       "    &gt;WOOLWORTHS\n",
       "    <span style=\"font-size: 0.8em; font-weight: bold; line-height: 1; border-radius: 0.35em; vertical-align: middle; margin-left: 0.5rem\">PLACE</span>\n",
       "</mark>\n",
       "\n",
       "<mark class=\"entity\" style=\"background: #ddd; padding: 0.45em 0.6em; margin: 0 0.25em; line-height: 1; border-radius: 0.35em;\">\n",
       "    /BEECROFTRDBEECROFTAU&lt;/TranDesc2\n",
       "    <span style=\"font-size: 0.8em; font-weight: bold; line-height: 1; border-radius: 0.35em; vertical-align: middle; margin-left: 0.5rem\">PLACE</span>\n",
       "</mark>\n",
       "\n",
       "<mark class=\"entity\" style=\"background: #ddd; padding: 0.45em 0.6em; margin: 0 0.25em; line-height: 1; border-radius: 0.35em;\">\n",
       "    &gt;\r\n",
       "\n",
       "    <span style=\"font-size: 0.8em; font-weight: bold; line-height: 1; border-radius: 0.35em; vertical-align: middle; margin-left: 0.5rem\">PLACE</span>\n",
       "</mark>\n",
       "&lt;\n",
       "<mark class=\"entity\" style=\"background: #ddd; padding: 0.45em 0.6em; margin: 0 0.25em; line-height: 1; border-radius: 0.35em;\">\n",
       "    SchedulePymtind&gt;\n",
       "    <span style=\"font-size: 0.8em; font-weight: bold; line-height: 1; border-radius: 0.35em; vertical-align: middle; margin-left: 0.5rem\">PLACE</span>\n",
       "</mark>\n",
       "\n",
       "<mark class=\"entity\" style=\"background: #ddd; padding: 0.45em 0.6em; margin: 0 0.25em; line-height: 1; border-radius: 0.35em;\">\n",
       "    N&lt;/SchedulePymtInd&gt;&lt;Brand&gt;&lt;/Brand&gt;&lt;/AlertTriggerSrv&gt;&lt;/Body&gt;&lt;/Envelope&gt;\n",
       "    <span style=\"font-size: 0.8em; font-weight: bold; line-height: 1; border-radius: 0.35em; vertical-align: middle; margin-left: 0.5rem\">PLACE</span>\n",
       "</mark>\n",
       "\n",
       "<mark class=\"entity\" style=\"background: #ddd; padding: 0.45em 0.6em; margin: 0 0.25em; line-height: 1; border-radius: 0.35em;\">\n",
       "    response:&lt;Envelope&gt;&lt;Body&gt;&lt;AlertTriggerSrvResp&gt;&lt;Code&gt;&lt;Code&gt;000&lt;/Code&gt;&lt;Desc&gt;\n",
       "    <span style=\"font-size: 0.8em; font-weight: bold; line-height: 1; border-radius: 0.35em; vertical-align: middle; margin-left: 0.5rem\">PLACE</span>\n",
       "</mark>\n",
       "The request was\r",
       "<br>successfully performed&lt;/Desc&gt;&lt;/Code&gt;&lt;/AlertTriggerSrvResp&gt;&lt;/Body&gt;&lt;/Envelope\n",
       "<mark class=\"entity\" style=\"background: #ddd; padding: 0.45em 0.6em; margin: 0 0.25em; line-height: 1; border-radius: 0.35em;\">\n",
       "    &gt;\n",
       "    <span style=\"font-size: 0.8em; font-weight: bold; line-height: 1; border-radius: 0.35em; vertical-align: middle; margin-left: 0.5rem\">PLACE</span>\n",
       "</mark>\n",
       "\r",
       "<br>\n",
       "<mark class=\"entity\" style=\"background: #bfe1d9; padding: 0.45em 0.6em; margin: 0 0.25em; line-height: 1; border-radius: 0.35em;\">\n",
       "    (au.com.stgeorge.sms.integration.\n",
       "    <span style=\"font-size: 0.8em; font-weight: bold; line-height: 1; border-radius: 0.35em; vertical-align: middle; margin-left: 0.5rem\">DATE</span>\n",
       "</mark>\n",
       "IntegrationManager\n",
       "<mark class=\"entity\" style=\"background: #ddd; padding: 0.45em 0.6em; margin: 0 0.25em; line-height: 1; border-radius: 0.35em;\">\n",
       "    )\n",
       "    <span style=\"font-size: 0.8em; font-weight: bold; line-height: 1; border-radius: 0.35em; vertical-align: middle; margin-left: 0.5rem\">PLACE</span>\n",
       "</mark>\n",
       "\r",
       "<br></div></span>"
      ],
      "text/plain": [
       "<IPython.core.display.HTML object>"
      ]
     },
     "metadata": {},
     "output_type": "display_data"
    }
   ],
   "source": [
    "spacy.displacy.render(doct, style=\"ent\", jupyter=True) # display in Jupyter"
   ]
  },
  {
   "cell_type": "code",
   "execution_count": 106,
   "id": "63e2099c-241f-447e-b0e4-ad43be545089",
   "metadata": {},
   "outputs": [],
   "source": [
    "ner_tagged = [(word.text, word.ent_type_) for word in doct] \n",
    "\n",
    "named_entities = []\n",
    "temp_entity_name = ''\n",
    "temp_named_entity = None\n",
    "for term, tag in ner_tagged:\n",
    "    if tag:\n",
    "        temp_entity_name = ' '.join([temp_entity_name, term]).strip()\n",
    "        temp_named_entity = (temp_entity_name, tag)\n",
    "    else:\n",
    "        if temp_named_entity:\n",
    "            named_entities.append(temp_named_entity)\n",
    "            temp_entity_name = ''\n",
    "            temp_named_entity = None"
   ]
  },
  {
   "cell_type": "code",
   "execution_count": 107,
   "id": "0899abd6-8e37-4b2b-991c-1a6a6d17b294",
   "metadata": {},
   "outputs": [
    {
     "data": {
      "text/plain": [
       "[('2021 - 07 - 02 14:57:54:456 INFO [ WMQJCAResourceAdapter : 4 ] = > srvName : AlertTriggerSrv request :',\n",
       "  'PLACE'),\n",
       " ('Header><Commoninfo><Source > ODS</Source><SourceBranch><Num>0</Num></SourceBranch >',\n",
       "  'PLACE'),\n",
       " ('> AlertTriggerSrv</Service></CommonInfo></Header><Body><AlertTriggerSr > < Applid > CRA</Applid><AcctNum><AcctKey>4601841000280711</AcctKey></AcctNum >',\n",
       "  'PLACE'),\n",
       " ('AvailBal>5599.20</AvailBal><CurrBal>9348.30</CurrBal><ODLim>0.00</ODLim',\n",
       "  'PLACE'),\n",
       " ('> Priyesh Dave</ShortName><TransType > AU</TransType><TranEffDate >',\n",
       "  'PLACE'),\n",
       " ('Day>02</Day><Month>07</Month><Year>2021</Year></TranEffDate><TranEffTime><Hour>14</Hour >',\n",
       "  'PLACE'),\n",
       " ('Min>57</Min><Sec>54</Sec></TranEffTime><TranAmt>52.50</TranAmt><TranDesc1 > TRML= W1364081',\n",
       "  'DATE'),\n",
       " ('> WOOLWORTHS / BEECROFTRDBEECROFTAU</TranDesc2 >', 'PLACE'),\n",
       " ('SchedulePymtind > N</SchedulePymtInd><Brand></Brand></AlertTriggerSrv></Body></Envelope > response:<Envelope><Body><AlertTriggerSrvResp><Code><Code>000</Code><Desc >',\n",
       "  'PLACE'),\n",
       " ('>', 'PLACE'),\n",
       " ('( au.com.stgeorge.sms.integration .', 'DATE'),\n",
       " (')', 'PLACE')]"
      ]
     },
     "execution_count": 107,
     "metadata": {},
     "output_type": "execute_result"
    }
   ],
   "source": [
    "named_entities"
   ]
  }
 ],
 "metadata": {
  "kernelspec": {
   "display_name": "Python 3 (ipykernel)",
   "language": "python",
   "name": "python3"
  },
  "language_info": {
   "codemirror_mode": {
    "name": "ipython",
    "version": 3
   },
   "file_extension": ".py",
   "mimetype": "text/x-python",
   "name": "python",
   "nbconvert_exporter": "python",
   "pygments_lexer": "ipython3",
   "version": "3.12.3"
  }
 },
 "nbformat": 4,
 "nbformat_minor": 5
}
