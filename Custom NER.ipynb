{
 "cells": [
  {
   "cell_type": "code",
   "execution_count": 1,
   "id": "b6998268-9d3f-46d0-9b9f-46d0a8084c98",
   "metadata": {},
   "outputs": [],
   "source": [
    "import spacy"
   ]
  },
  {
   "cell_type": "code",
   "execution_count": 2,
   "id": "af4e57fa-9c4b-4a74-9ce2-4610a0da2fe1",
   "metadata": {},
   "outputs": [],
   "source": [
    "nlp = spacy.load(\"en_core_web_sm\") "
   ]
  },
  {
   "cell_type": "code",
   "execution_count": 3,
   "id": "70d4e8d0-6231-4e44-8fe3-4dc29883d115",
   "metadata": {},
   "outputs": [
    {
     "data": {
      "text/plain": [
       "'In the week before the departure to Sacramento, when all the final scurrying about had reached a nearly unbearable frenzy, an old crone came to visit the mother of the boy, Paul.'"
      ]
     },
     "execution_count": 3,
     "metadata": {},
     "output_type": "execute_result"
    }
   ],
   "source": [
    "sentence = \"In the week before the departure to Sacramento, when all the final scurrying about had reached a nearly unbearable frenzy, an old crone came to visit the mother of the boy, Paul.\"\n",
    "sentence #Sacramento since Arrakis (Fictional Place) was not captured as place"
   ]
  },
  {
   "cell_type": "code",
   "execution_count": 4,
   "id": "2f3791ca-c6ac-4a76-86b8-ea46bac4077f",
   "metadata": {},
   "outputs": [
    {
     "data": {
      "text/plain": [
       "(the week, Sacramento, Paul)"
      ]
     },
     "execution_count": 4,
     "metadata": {},
     "output_type": "execute_result"
    }
   ],
   "source": [
    "doc = nlp(sentence)\n",
    "doc.ents"
   ]
  },
  {
   "cell_type": "code",
   "execution_count": 5,
   "id": "73cd87b6-4eff-4751-9bbe-5e736733e368",
   "metadata": {},
   "outputs": [
    {
     "name": "stdout",
     "output_type": "stream",
     "text": [
      "the week DATE\n",
      "Sacramento GPE\n",
      "Paul PERSON\n"
     ]
    }
   ],
   "source": [
    "for entity in doc.ents:\n",
    "    print(entity.text, entity.label_)"
   ]
  },
  {
   "cell_type": "code",
   "execution_count": 6,
   "id": "f2c2b406-396b-4e14-9f04-4ba2a78d6096",
   "metadata": {},
   "outputs": [
    {
     "data": {
      "text/html": [
       "<span class=\"tex2jax_ignore\"><div class=\"entities\" style=\"line-height: 2.5; direction: ltr\">In \n",
       "<mark class=\"entity\" style=\"background: #bfe1d9; padding: 0.45em 0.6em; margin: 0 0.25em; line-height: 1; border-radius: 0.35em;\">\n",
       "    the week\n",
       "    <span style=\"font-size: 0.8em; font-weight: bold; line-height: 1; border-radius: 0.35em; vertical-align: middle; margin-left: 0.5rem\">DATE</span>\n",
       "</mark>\n",
       " before the departure to \n",
       "<mark class=\"entity\" style=\"background: #feca74; padding: 0.45em 0.6em; margin: 0 0.25em; line-height: 1; border-radius: 0.35em;\">\n",
       "    Sacramento\n",
       "    <span style=\"font-size: 0.8em; font-weight: bold; line-height: 1; border-radius: 0.35em; vertical-align: middle; margin-left: 0.5rem\">GPE</span>\n",
       "</mark>\n",
       ", when all the final scurrying about had reached a nearly unbearable frenzy, an old crone came to visit the mother of the boy, \n",
       "<mark class=\"entity\" style=\"background: #aa9cfc; padding: 0.45em 0.6em; margin: 0 0.25em; line-height: 1; border-radius: 0.35em;\">\n",
       "    Paul\n",
       "    <span style=\"font-size: 0.8em; font-weight: bold; line-height: 1; border-radius: 0.35em; vertical-align: middle; margin-left: 0.5rem\">PERSON</span>\n",
       "</mark>\n",
       ".</div></span>"
      ],
      "text/plain": [
       "<IPython.core.display.HTML object>"
      ]
     },
     "metadata": {},
     "output_type": "display_data"
    }
   ],
   "source": [
    "from spacy import displacy\n",
    "displacy.render(doc, style=\"ent\", jupyter=True)"
   ]
  },
  {
   "cell_type": "code",
   "execution_count": 7,
   "id": "d520b177-7384-4086-a754-7c442775dd84",
   "metadata": {},
   "outputs": [],
   "source": [
    "#Using NER annotation tool, prepared the same sentence, but with \"Arrakis\" instead of Sacramento"
   ]
  },
  {
   "cell_type": "code",
   "execution_count": 9,
   "id": "4d798fec-4b87-4106-b37f-2123054a29ff",
   "metadata": {},
   "outputs": [
    {
     "data": {
      "text/plain": [
       "['In the week before the departure to Arrakis, when all the final scurrying about had reached a nearly unbearable frenzy, an old crone came to visit the mother of the boy, Paul.\\r',\n",
       " {'entities': [[0, 11, 'DATE']]}]"
      ]
     },
     "execution_count": 9,
     "metadata": {},
     "output_type": "execute_result"
    }
   ],
   "source": [
    "from spacy.tokens import DocBin\n",
    "from tqdm import tqdm\n",
    "import json\n",
    "\n",
    "fict_data = json.load(open(\"C:/Users/kamalam.s/OneDrive - Kryptos/Desktop/kamalam's/nlp dev/data/ner/annotations.json\",'r'))\n",
    "len(fict_data)\n",
    "fict_data[0]"
   ]
  },
  {
   "cell_type": "code",
   "execution_count": 10,
   "id": "ff43ff74-999a-49a8-94e6-421b4475574e",
   "metadata": {},
   "outputs": [],
   "source": [
    "#Base config file can be downloaded from the documentation: https://spacy.io/usage/training\n",
    "#Either auto-fill can be done on the same or can be filled manually. "
   ]
  },
  {
   "cell_type": "code",
   "execution_count": 11,
   "id": "afab7b97-dd6c-4745-8669-a913048f8dfe",
   "metadata": {},
   "outputs": [],
   "source": [
    "#Command to autofill."
   ]
  },
  {
   "cell_type": "code",
   "execution_count": 12,
   "id": "f92f447f-5ec7-4ac3-85bf-5b45ce23748f",
   "metadata": {},
   "outputs": [
    {
     "name": "stdout",
     "output_type": "stream",
     "text": [
      "[+] Auto-filled config with all values\n",
      "[+] Saved config\n",
      "config.cfg\n",
      "You can now add your data and train your pipeline:\n",
      "python -m spacy train config.cfg --paths.train ./train.spacy --paths.dev ./dev.spacy\n"
     ]
    }
   ],
   "source": [
    "!python -m spacy init fill-config ner_config.cfg config.cfg "
   ]
  },
  {
   "cell_type": "code",
   "execution_count": 13,
   "id": "fbce9773-2b48-49f6-ad1c-7bca66f14561",
   "metadata": {},
   "outputs": [],
   "source": [
    "#Using DocBin object from spacy to load our newly annotated data\n",
    "#tqdm aids in creating a progress bar to loops/iterables."
   ]
  },
  {
   "cell_type": "code",
   "execution_count": 14,
   "id": "2040e9c4-61fc-4531-ae69-625e5e4c6c68",
   "metadata": {},
   "outputs": [
    {
     "name": "stderr",
     "output_type": "stream",
     "text": [
      "100%|████████████████████████████████████████████████████████████████████████████████████████████| 1/1 [00:00<?, ?it/s]"
     ]
    },
    {
     "name": "stdout",
     "output_type": "stream",
     "text": [
      "[[0, 12, 'PLACE'], [61, 70, 'PLACE'], [94, 102, 'PLACE']]\n"
     ]
    },
    {
     "name": "stderr",
     "output_type": "stream",
     "text": [
      "\n"
     ]
    }
   ],
   "source": [
    "from tqdm import tqdm\n",
    "for text, ents in tqdm([['Diagon Alley has a variety of things to choose and buy from, Hogsmeade is very cosy. Overall, Hogwarts must be one cheery of an experience.\\r',\n",
    "  {'entities': [[0, 12, 'PLACE'], [61, 70, 'PLACE'], [94, 102, 'PLACE']]}]]):\n",
    "    n = ents['entities']\n",
    "    print(n)"
   ]
  },
  {
   "cell_type": "code",
   "execution_count": 15,
   "id": "510f295b-acab-4799-a51e-6d48e65f73c5",
   "metadata": {},
   "outputs": [],
   "source": [
    "# Define a function to create spaCy DocBin objects from the annotated data\n",
    "def get_spacy_doc(file, data):\n",
    "  # Create a blank spaCy pipeline\n",
    "  nlp = spacy.blank('en')\n",
    "  db = DocBin()\n",
    "  # Iterate through the data\n",
    "  for text, annot in tqdm(data):\n",
    "    doc = nlp.make_doc(text)\n",
    "    annot = annot['entities']\n",
    "    ents = []\n",
    "    entity_indices = []\n",
    "    # Extract entities from the annotations\n",
    "    for start, end, label in annot:\n",
    "      skip_entity = False\n",
    "      for idx in range(start, end):\n",
    "        if idx in entity_indices:\n",
    "          skip_entity = True\n",
    "          break\n",
    "      if skip_entity:\n",
    "        continue\n",
    "      entity_indices = entity_indices + list(range(start, end))\n",
    "      try:\n",
    "        span = doc.char_span(start, end, label=label, alignment_mode='strict')\n",
    "      except:\n",
    "        continue\n",
    "      if span is None:\n",
    "        # Log errors for annotations that couldn't be processed\n",
    "        err_data = str([start, end]) + \"    \" + str(text) + \"\\n\"\n",
    "        file.write(err_data)\n",
    "      else:\n",
    "        ents.append(span)\n",
    "    try:\n",
    "      doc.ents = ents\n",
    "      db.add(doc)\n",
    "    except:\n",
    "      pass\n",
    "  return db"
   ]
  },
  {
   "cell_type": "code",
   "execution_count": 18,
   "id": "64d480bf-ff03-453d-8466-b2377a2a5c86",
   "metadata": {},
   "outputs": [
    {
     "data": {
      "text/plain": [
       "[['In the week before the departure to Arrakis, when all the final scurrying about had reached a nearly unbearable frenzy, an old crone came to visit the mother of the boy, Paul.\\r',\n",
       "  {'entities': [[0, 11, 'DATE']]}],\n",
       " ['Diagon Alley has a variety of things to choose and buy from, Hogsmeade is very cosy. Overall, Hogwarts must be one cheery of an experience.\\r',\n",
       "  {'entities': [[0, 12, 'PLACE'], [61, 70, 'PLACE'], [94, 102, 'PLACE']]}],\n",
       " [\"Scythia had become a labyrinth of snow and ice. I'd been monitoring the parameters of the thicket for an hour, and my vantage point in the crook of a tree branch had turned useless.\\r\",\n",
       "  {'entities': [[0, 7, 'PLACE']]}]]"
      ]
     },
     "execution_count": 18,
     "metadata": {},
     "output_type": "execute_result"
    }
   ],
   "source": [
    "fict_data"
   ]
  },
  {
   "cell_type": "code",
   "execution_count": 20,
   "id": "5efbe2a7-3785-45bc-99bd-23600460cbf3",
   "metadata": {},
   "outputs": [
    {
     "name": "stdout",
     "output_type": "stream",
     "text": [
      "2 1\n"
     ]
    },
    {
     "name": "stderr",
     "output_type": "stream",
     "text": [
      "100%|███████████████████████████████████████████████████████████████████████████████████| 2/2 [00:00<00:00, 429.08it/s]\n",
      "100%|████████████████████████████████████████████████████████████████████████████████████████████| 1/1 [00:00<?, ?it/s]\n"
     ]
    }
   ],
   "source": [
    "from sklearn.model_selection import train_test_split\n",
    "train, test = train_test_split(fict_data, test_size=0.2)\n",
    "print(len(train), len(test))\n",
    "file = open(\"C:/Users/kamalam.s/OneDrive - Kryptos/Desktop/kamalam's/nlp dev/trained_models/train_file.txt\",'w')\n",
    "db = get_spacy_doc(file, train)\n",
    "db.to_disk(\"C:/Users/kamalam.s/OneDrive - Kryptos/Desktop/kamalam's/nlp dev/trained_models/train_data.spacy\")\n",
    "db = get_spacy_doc(file, test)\n",
    "db.to_disk(\"C:/Users/kamalam.s/OneDrive - Kryptos/Desktop/kamalam's/nlp dev/trained_models/test_data.spacy\")\n",
    "file.close()"
   ]
  },
  {
   "cell_type": "code",
   "execution_count": 22,
   "id": "765e824f-f10b-4833-87f4-e3eab9e7af56",
   "metadata": {},
   "outputs": [
    {
     "name": "stdout",
     "output_type": "stream",
     "text": [
      "[i] Saving to output directory: C:\\Users\\kamalam.s\\OneDrive -\n",
      "Kryptos\\Desktop\\kamalam's\\nlp dev\\trained_models\\output\n",
      "[i] Using CPU\n",
      "\u001b[1m\n",
      "=========================== Initializing pipeline ===========================\u001b[0m\n",
      "[+] Initialized pipeline\n",
      "\u001b[1m\n",
      "============================= Training pipeline =============================\u001b[0m\n",
      "[i] Pipeline: ['tok2vec', 'ner']\n",
      "[i] Initial learn rate: 0.001\n",
      "E    #       LOSS TOK2VEC  LOSS NER  ENTS_F  ENTS_P  ENTS_R  SCORE \n",
      "---  ------  ------------  --------  ------  ------  ------  ------\n",
      "  0       0          0.00     30.30    0.00    0.00    0.00    0.00\n",
      "200     200         12.55    489.64    0.00    0.00    0.00    0.00\n",
      "400     400          0.00      0.00    0.00    0.00    0.00    0.00\n",
      "600     600          0.00      0.00    0.00    0.00    0.00    0.00\n",
      "800     800          0.00      0.00    0.00    0.00    0.00    0.00\n",
      "1000    1000          0.00      0.00    0.00    0.00    0.00    0.00\n",
      "1200    1200          0.00      0.00    0.00    0.00    0.00    0.00\n",
      "1400    1400          0.00      0.00    0.00    0.00    0.00    0.00\n",
      "1600    1600          0.00      0.00    0.00    0.00    0.00    0.00\n",
      "[+] Saved pipeline to output directory\n",
      "C:\\Users\\kamalam.s\\OneDrive - Kryptos\\Desktop\\kamalam's\\nlp\n",
      "dev\\trained_models\\output\\model-last\n"
     ]
    }
   ],
   "source": [
    "!python -m spacy train \"C:/Users/kamalam.s/OneDrive - Kryptos/Desktop/kamalam's/nlp dev/config.cfg\"  --output \"C:/Users/kamalam.s/OneDrive - Kryptos/Desktop/kamalam's/nlp dev/trained_models/output\"  --paths.train \"C:/Users/kamalam.s/OneDrive - Kryptos/Desktop/kamalam's/nlp dev/trained_models/train_data.spacy\"  --paths.dev \"C:/Users/kamalam.s/OneDrive - Kryptos/Desktop/kamalam's/nlp dev/trained_models/test_data.spacy\""
   ]
  },
  {
   "cell_type": "code",
   "execution_count": 42,
   "id": "fa5f8103-8f27-431a-b8d0-291e04f60106",
   "metadata": {},
   "outputs": [],
   "source": [
    "nlpt = spacy.load(\"C:/Users/kamalam.s/OneDrive - Kryptos/Desktop/kamalam's/nlp dev/trained_models/output/model-best\")\n",
    "sample = \"Diagon Alley, is a fictional place from Rowling's book, written two weeks earlier.\"\n",
    "\n",
    "doct = nlpt(sample)"
   ]
  },
  {
   "cell_type": "code",
   "execution_count": 43,
   "id": "11389585-9044-4e8c-99e0-34b59dccf916",
   "metadata": {},
   "outputs": [
    {
     "name": "stdout",
     "output_type": "stream",
     "text": [
      "Diagon Alley PLACE\n"
     ]
    }
   ],
   "source": [
    "for ent in doct.ents:\n",
    "  print(ent.text, ent.label_)"
   ]
  },
  {
   "cell_type": "code",
   "execution_count": 44,
   "id": "ea05cc17-b491-4282-9530-0c86c0371f70",
   "metadata": {},
   "outputs": [
    {
     "data": {
      "text/html": [
       "<span class=\"tex2jax_ignore\"><div class=\"entities\" style=\"line-height: 2.5; direction: ltr\">\n",
       "<mark class=\"entity\" style=\"background: #ddd; padding: 0.45em 0.6em; margin: 0 0.25em; line-height: 1; border-radius: 0.35em;\">\n",
       "    Diagon Alley\n",
       "    <span style=\"font-size: 0.8em; font-weight: bold; line-height: 1; border-radius: 0.35em; vertical-align: middle; margin-left: 0.5rem\">PLACE</span>\n",
       "</mark>\n",
       ", is a fictional place from Rowling's book, written two weeks earlier.</div></span>"
      ],
      "text/plain": [
       "<IPython.core.display.HTML object>"
      ]
     },
     "metadata": {},
     "output_type": "display_data"
    }
   ],
   "source": [
    "spacy.displacy.render(doct, style=\"ent\", jupyter=True) # display in Jupyter"
   ]
  },
  {
   "cell_type": "code",
   "execution_count": 45,
   "id": "63e2099c-241f-447e-b0e4-ad43be545089",
   "metadata": {},
   "outputs": [],
   "source": [
    "ner_tagged = [(word.text, word.ent_type_) for word in doct] \n",
    "\n",
    "named_entities = []\n",
    "temp_entity_name = ''\n",
    "temp_named_entity = None\n",
    "for term, tag in ner_tagged:\n",
    "    if tag:\n",
    "        temp_entity_name = ' '.join([temp_entity_name, term]).strip()\n",
    "        temp_named_entity = (temp_entity_name, tag)\n",
    "    else:\n",
    "        if temp_named_entity:\n",
    "            named_entities.append(temp_named_entity)\n",
    "            temp_entity_name = ''\n",
    "            temp_named_entity = None"
   ]
  },
  {
   "cell_type": "code",
   "execution_count": 46,
   "id": "0899abd6-8e37-4b2b-991c-1a6a6d17b294",
   "metadata": {},
   "outputs": [
    {
     "data": {
      "text/plain": [
       "[('Diagon Alley', 'PLACE')]"
      ]
     },
     "execution_count": 46,
     "metadata": {},
     "output_type": "execute_result"
    }
   ],
   "source": [
    "named_entities"
   ]
  }
 ],
 "metadata": {
  "kernelspec": {
   "display_name": "Python 3 (ipykernel)",
   "language": "python",
   "name": "python3"
  },
  "language_info": {
   "codemirror_mode": {
    "name": "ipython",
    "version": 3
   },
   "file_extension": ".py",
   "mimetype": "text/x-python",
   "name": "python",
   "nbconvert_exporter": "python",
   "pygments_lexer": "ipython3",
   "version": "3.12.3"
  }
 },
 "nbformat": 4,
 "nbformat_minor": 5
}
